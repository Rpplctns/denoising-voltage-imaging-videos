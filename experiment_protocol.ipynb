{
 "cells": [
  {
   "cell_type": "code",
   "id": "initial_id",
   "metadata": {
    "collapsed": true,
    "ExecuteTime": {
     "end_time": "2025-06-09T16:45:07.649832Z",
     "start_time": "2025-06-09T16:45:06.317684Z"
    }
   },
   "source": [
    "import data.loader as loader\n",
    "\n",
    "from skimage.metrics import structural_similarity as ssim\n",
    "\n",
    "from denoising.tv import tv_minimization_filter\n",
    "from evaluation.snr import temporal_snr, sliding_window_tsnr\n",
    "\n",
    "from denoising.gaussian import gaussian_filter\n",
    "from denoising.bilateral import bilateral_filter\n",
    "from denoising.anisotropic import anisotropic_filter\n",
    "from denoising.wavelet import wavelet_filter\n",
    "from denoising.tv import tv_minimization_filter\n",
    "from denoising.nl_means import nl_means\n",
    "\n",
    "from denoising.HYPERPARAMS import *\n",
    "\n",
    "from eval import eval_denoising_method"
   ],
   "outputs": [],
   "execution_count": 1
  },
  {
   "metadata": {
    "ExecuteTime": {
     "end_time": "2025-06-09T16:45:31.649648Z",
     "start_time": "2025-06-09T16:45:10.158465Z"
    }
   },
   "cell_type": "code",
   "source": [
    "# Validation set\n",
    "data = loader.load(directory='data/optosynth/raw/', file='optosynth__1__20__5.tif')['optosynth__1__20__5.tif']\n",
    "data_gt = loader.load(directory='data/optosynth/clean/', file='optosynth__1__20__5.tif')['optosynth__1__20__5.tif']"
   ],
   "id": "cd51f10f047e36c1",
   "outputs": [],
   "execution_count": 2
  },
  {
   "metadata": {},
   "cell_type": "code",
   "source": [
    "for i in range(4, 5):\n",
    "    eval_denoising_method(\n",
    "        data[:1000],\n",
    "        anisotropic_filter,\n",
    "        lambda denoised: ssim(denoised, data_gt[:1000], data_range=1.0, multichannel=False),\n",
    "        np.array(HYPER_ANISOTROPIC[i:(i+1)]),\n",
    "        f'anisotropic_ssim_1000f_sr{i}'\n",
    "    )\n",
    "\n",
    "# for i in range(5):\n",
    "#     eval_denoising_method(\n",
    "#         data[:1000],\n",
    "#         anisotropic_filter,\n",
    "#         lambda denoised: temporal_snr(denoised),\n",
    "#         np.array(HYPER_ANISOTROPIC[i:(i+1)]),\n",
    "#         f'anisotropic_tsnr_100f_sr{i}'\n",
    "#     )"
   ],
   "id": "1119bfa3ed539140",
   "outputs": [],
   "execution_count": null
  },
  {
   "metadata": {
    "ExecuteTime": {
     "end_time": "2025-06-09T13:54:15.638709Z",
     "start_time": "2025-06-09T13:54:12.245597Z"
    }
   },
   "cell_type": "code",
   "source": [
    "eval_denoising_method(\n",
    "        data[:100],\n",
    "        anisotropic_filter,\n",
    "        lambda denoised: ssim(denoised, data_gt[:100], data_range=1.0, multichannel=False),\n",
    "        np.array(HYPER_ANISOTROPIC[2:3,0:1, 0:1, 0:1]),\n",
    "        f'anisotropic_ssim_100f_sr0'\n",
    ")"
   ],
   "id": "b98cc5d19c181d5c",
   "outputs": [
    {
     "name": "stdout",
     "output_type": "stream",
     "text": [
      "Working on anisotropic_ssim_100f_sr0. Number of items: 1\n"
     ]
    },
    {
     "name": "stderr",
     "output_type": "stream",
     "text": [
      "1it [00:03,  3.38s/it]\n"
     ]
    },
    {
     "data": {
      "text/plain": [
       "array([[[[np.float64(0.3007840733012943)]]]], dtype=object)"
      ]
     },
     "execution_count": 11,
     "metadata": {},
     "output_type": "execute_result"
    }
   ],
   "execution_count": 11
  },
  {
   "metadata": {
    "jupyter": {
     "is_executing": true
    },
    "ExecuteTime": {
     "end_time": "2025-06-09T16:33:50.798136Z",
     "start_time": "2025-06-09T15:56:57.331197Z"
    }
   },
   "cell_type": "code",
   "source": [
    "for i in range(4, 5):\n",
    "    eval_denoising_method(\n",
    "        data[:1000],\n",
    "        tv_minimization_filter,\n",
    "        lambda denoised: ssim(denoised, data_gt[:1000], data_range=1.0, multichannel=False),\n",
    "        np.array(HYPER_TV_MINIMIZATION[i:(i+1)]),\n",
    "        f'tv_ssim_1000f_sr{i}'\n",
    "    )"
   ],
   "id": "d982df3741c9edfc",
   "outputs": [
    {
     "name": "stdout",
     "output_type": "stream",
     "text": [
      "Working on tv_ssim_1000f_sr4. Number of items: 10\n"
     ]
    },
    {
     "name": "stderr",
     "output_type": "stream",
     "text": [
      "1it [14:24, 864.82s/it]"
     ]
    }
   ],
   "execution_count": null
  },
  {
   "metadata": {},
   "cell_type": "code",
   "source": "ssim(data[:1000], data_gt[:1000], data_range=1.0)",
   "id": "1cc92356d01d38b4",
   "outputs": [],
   "execution_count": null
  },
  {
   "metadata": {},
   "cell_type": "code",
   "source": [
    "# eval_denoising_method(\n",
    "#     data[:1000],\n",
    "#     wavelet_filter,\n",
    "#     lambda denoised: ssim(denoised, data_gt[:1000], data_range=1.0, multichannel=False),\n",
    "#     np.array(HYPER_WAVELET),\n",
    "#     'wavelet_ssim_1000f'\n",
    "# )\n",
    "\n",
    "eval_denoising_method(\n",
    "    data[:1000],\n",
    "    wavelet_filter,\n",
    "    lambda denoised: sliding_window_tsnr(denoised),\n",
    "    np.array(HYPER_WAVELET),\n",
    "    'wavelet_tsnr_1000f'\n",
    ")"
   ],
   "id": "dd7b3cb1acd9b1b",
   "outputs": [],
   "execution_count": null
  },
  {
   "metadata": {
    "jupyter": {
     "is_executing": true
    },
    "ExecuteTime": {
     "end_time": "2025-06-09T19:20:36.726270Z",
     "start_time": "2025-06-09T16:45:31.734594Z"
    }
   },
   "cell_type": "code",
   "source": [
    "eval_denoising_method(\n",
    "    data[:100],\n",
    "    nl_means,\n",
    "    lambda denoised: ssim(denoised, data_gt[:100], data_range=1.0, multichannel=False),\n",
    "    np.array(HYPER_NL_MEANS),\n",
    "    'nl_means_ssim_100f'\n",
    ")"
   ],
   "id": "b70f43aaefffaf26",
   "outputs": [
    {
     "name": "stdout",
     "output_type": "stream",
     "text": [
      "Working on nl_means_ssim_100f. Number of items: 84\n"
     ]
    },
    {
     "name": "stderr",
     "output_type": "stream",
     "text": [
      "6it [57:05, 733.40s/it]"
     ]
    }
   ],
   "execution_count": null
  }
 ],
 "metadata": {
  "kernelspec": {
   "display_name": "Python 3",
   "language": "python",
   "name": "python3"
  },
  "language_info": {
   "codemirror_mode": {
    "name": "ipython",
    "version": 2
   },
   "file_extension": ".py",
   "mimetype": "text/x-python",
   "name": "python",
   "nbconvert_exporter": "python",
   "pygments_lexer": "ipython2",
   "version": "2.7.6"
  }
 },
 "nbformat": 4,
 "nbformat_minor": 5
}
