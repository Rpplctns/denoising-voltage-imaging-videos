{
 "cells": [
  {
   "cell_type": "code",
   "id": "initial_id",
   "metadata": {
    "collapsed": true,
    "ExecuteTime": {
     "end_time": "2025-06-09T10:00:27.517852Z",
     "start_time": "2025-06-09T10:00:25.796464Z"
    }
   },
   "source": [
    "import data.loader as loader\n",
    "\n",
    "from skimage.metrics import structural_similarity as ssim\n",
    "from evaluation.snr import temporal_snr, sliding_window_tsnr\n",
    "\n",
    "from denoising.gaussian import gaussian_filter\n",
    "from denoising.anisotropic import anisotropic_filter\n",
    "from denoising.wavelet import wavelet_filter\n",
    "\n",
    "from denoising.HYPERPARAMS import *\n",
    "\n",
    "from eval import eval_denoising_method"
   ],
   "outputs": [],
   "execution_count": 1
  },
  {
   "metadata": {
    "ExecuteTime": {
     "end_time": "2025-06-09T10:00:48.916358Z",
     "start_time": "2025-06-09T10:00:27.806713Z"
    }
   },
   "cell_type": "code",
   "source": [
    "# Validation set\n",
    "data = loader.load(directory='data/optosynth/raw/', file='optosynth__1__20__5.tif')['optosynth__1__20__5.tif']\n",
    "data_gt = loader.load(directory='data/optosynth/clean/', file='optosynth__1__20__5.tif')['optosynth__1__20__5.tif']"
   ],
   "id": "cd51f10f047e36c1",
   "outputs": [],
   "execution_count": 2
  },
  {
   "metadata": {
    "ExecuteTime": {
     "end_time": "2025-06-08T20:47:46.335402Z",
     "start_time": "2025-06-08T16:49:58.996112Z"
    }
   },
   "cell_type": "code",
   "source": [
    "for i in range(3, 5):\n",
    "    eval_denoising_method(\n",
    "        data[:1000],\n",
    "        anisotropic_filter,\n",
    "        lambda denoised: ssim(denoised, data_gt[:1000], data_range=1.0, multichannel=False),\n",
    "        np.array(HYPER_ANISOTROPIC[i:(i+1)]),\n",
    "        f'anisotropic_ssim_100f_sr{i}'\n",
    "    )\n",
    "\n",
    "# for i in range(5):\n",
    "#     eval_denoising_method(\n",
    "#         data[:1000],\n",
    "#         anisotropic_filter,\n",
    "#         lambda denoised: temporal_snr(denoised),\n",
    "#         np.array(HYPER_ANISOTROPIC[i:(i+1)]),\n",
    "#         f'anisotropic_tsnr_100f_sr{i}'\n",
    "#     )"
   ],
   "id": "1119bfa3ed539140",
   "outputs": [
    {
     "name": "stdout",
     "output_type": "stream",
     "text": [
      "Working on anisotropic_ssim_100f_sr0. Number of items: 70\n"
     ]
    },
    {
     "name": "stderr",
     "output_type": "stream",
     "text": [
      "70it [40:16, 34.52s/it]\n"
     ]
    },
    {
     "name": "stdout",
     "output_type": "stream",
     "text": [
      "Working on anisotropic_ssim_100f_sr1. Number of items: 70\n"
     ]
    },
    {
     "name": "stderr",
     "output_type": "stream",
     "text": [
      "70it [1:17:55, 66.79s/it]\n"
     ]
    },
    {
     "name": "stdout",
     "output_type": "stream",
     "text": [
      "Working on anisotropic_ssim_100f_sr2. Number of items: 70\n"
     ]
    },
    {
     "name": "stderr",
     "output_type": "stream",
     "text": [
      "70it [1:59:26, 102.38s/it]\n"
     ]
    },
    {
     "name": "stdout",
     "output_type": "stream",
     "text": [
      "Working on anisotropic_ssim_100f_sr3. Number of items: 70\n"
     ]
    },
    {
     "name": "stderr",
     "output_type": "stream",
     "text": [
      "0it [00:08, ?it/s]\n"
     ]
    },
    {
     "ename": "KeyboardInterrupt",
     "evalue": "",
     "output_type": "error",
     "traceback": [
      "\u001B[31m---------------------------------------------------------------------------\u001B[39m",
      "\u001B[31mKeyboardInterrupt\u001B[39m                         Traceback (most recent call last)",
      "\u001B[36mCell\u001B[39m\u001B[36m \u001B[39m\u001B[32mIn[4]\u001B[39m\u001B[32m, line 2\u001B[39m\n\u001B[32m      1\u001B[39m \u001B[38;5;28;01mfor\u001B[39;00m i \u001B[38;5;129;01min\u001B[39;00m \u001B[38;5;28mrange\u001B[39m(\u001B[32m5\u001B[39m):\n\u001B[32m----> \u001B[39m\u001B[32m2\u001B[39m     \u001B[43meval_denoising_method\u001B[49m\u001B[43m(\u001B[49m\n\u001B[32m      3\u001B[39m \u001B[43m        \u001B[49m\u001B[43mdata\u001B[49m\u001B[43m[\u001B[49m\u001B[43m:\u001B[49m\u001B[32;43m1000\u001B[39;49m\u001B[43m]\u001B[49m\u001B[43m,\u001B[49m\n\u001B[32m      4\u001B[39m \u001B[43m        \u001B[49m\u001B[43manisotropic_filter\u001B[49m\u001B[43m,\u001B[49m\n\u001B[32m      5\u001B[39m \u001B[43m        \u001B[49m\u001B[38;5;28;43;01mlambda\u001B[39;49;00m\u001B[43m \u001B[49m\u001B[43mdenoised\u001B[49m\u001B[43m:\u001B[49m\u001B[43m \u001B[49m\u001B[43mssim\u001B[49m\u001B[43m(\u001B[49m\u001B[43mdenoised\u001B[49m\u001B[43m,\u001B[49m\u001B[43m \u001B[49m\u001B[43mdata_gt\u001B[49m\u001B[43m[\u001B[49m\u001B[43m:\u001B[49m\u001B[32;43m1000\u001B[39;49m\u001B[43m]\u001B[49m\u001B[43m,\u001B[49m\u001B[43m \u001B[49m\u001B[43mdata_range\u001B[49m\u001B[43m=\u001B[49m\u001B[32;43m1.0\u001B[39;49m\u001B[43m,\u001B[49m\u001B[43m \u001B[49m\u001B[43mmultichannel\u001B[49m\u001B[43m=\u001B[49m\u001B[38;5;28;43;01mFalse\u001B[39;49;00m\u001B[43m)\u001B[49m\u001B[43m,\u001B[49m\n\u001B[32m      6\u001B[39m \u001B[43m        \u001B[49m\u001B[43mnp\u001B[49m\u001B[43m.\u001B[49m\u001B[43marray\u001B[49m\u001B[43m(\u001B[49m\u001B[43mHYPER_ANISOTROPIC\u001B[49m\u001B[43m[\u001B[49m\u001B[43mi\u001B[49m\u001B[43m:\u001B[49m\u001B[43m(\u001B[49m\u001B[43mi\u001B[49m\u001B[43m+\u001B[49m\u001B[32;43m1\u001B[39;49m\u001B[43m)\u001B[49m\u001B[43m]\u001B[49m\u001B[43m)\u001B[49m\u001B[43m,\u001B[49m\n\u001B[32m      7\u001B[39m \u001B[43m        \u001B[49m\u001B[33;43mf\u001B[39;49m\u001B[33;43m'\u001B[39;49m\u001B[33;43manisotropic_ssim_100f_sr\u001B[39;49m\u001B[38;5;132;43;01m{\u001B[39;49;00m\u001B[43mi\u001B[49m\u001B[38;5;132;43;01m}\u001B[39;49;00m\u001B[33;43m'\u001B[39;49m\n\u001B[32m      8\u001B[39m \u001B[43m    \u001B[49m\u001B[43m)\u001B[49m\n\u001B[32m     10\u001B[39m \u001B[38;5;66;03m# for i in range(5):\u001B[39;00m\n\u001B[32m     11\u001B[39m \u001B[38;5;66;03m#     eval_denoising_method(\u001B[39;00m\n\u001B[32m     12\u001B[39m \u001B[38;5;66;03m#         data[:1000],\u001B[39;00m\n\u001B[32m   (...)\u001B[39m\u001B[32m     16\u001B[39m \u001B[38;5;66;03m#         f'anisotropic_tsnr_100f_sr{i}'\u001B[39;00m\n\u001B[32m     17\u001B[39m \u001B[38;5;66;03m#     )\u001B[39;00m\n",
      "\u001B[36mFile \u001B[39m\u001B[32m~/Documents/rp/code/eval.py:10\u001B[39m, in \u001B[36meval_denoising_method\u001B[39m\u001B[34m(vid, method_denoise, method_eval, hyperparam_array, name)\u001B[39m\n\u001B[32m      7\u001B[39m result = np.zeros_like(hyperparam_array)\n\u001B[32m      9\u001B[39m \u001B[38;5;28;01mfor\u001B[39;00m idx \u001B[38;5;129;01min\u001B[39;00m tqdm(np.ndindex(hyperparam_array.shape)):\n\u001B[32m---> \u001B[39m\u001B[32m10\u001B[39m     denoised = \u001B[43mmethod_denoise\u001B[49m\u001B[43m(\u001B[49m\u001B[43mvid\u001B[49m\u001B[43m,\u001B[49m\u001B[43m \u001B[49m\u001B[43mhyperparam_array\u001B[49m\u001B[43m[\u001B[49m\u001B[43midx\u001B[49m\u001B[43m]\u001B[49m\u001B[43m)\u001B[49m\n\u001B[32m     11\u001B[39m     result[idx] = method_eval(denoised)\n\u001B[32m     12\u001B[39m     \u001B[38;5;28;01mdel\u001B[39;00m(denoised)\n",
      "\u001B[36mFile \u001B[39m\u001B[32m~/Documents/rp/code/denoising/anisotropic.py:13\u001B[39m, in \u001B[36manisotropic_filter\u001B[39m\u001B[34m(vid, hyperparams)\u001B[39m\n\u001B[32m     10\u001B[39m gamma = hyperparams[\u001B[33m\"\u001B[39m\u001B[33mgamma\u001B[39m\u001B[33m\"\u001B[39m]\n\u001B[32m     11\u001B[39m spacing_ratio = hyperparams[\u001B[33m\"\u001B[39m\u001B[33mspacing_ratio\u001B[39m\u001B[33m\"\u001B[39m]\n\u001B[32m---> \u001B[39m\u001B[32m13\u001B[39m rescaled = \u001B[43mzoom\u001B[49m\u001B[43m(\u001B[49m\u001B[43mvid\u001B[49m\u001B[43m,\u001B[49m\u001B[43m \u001B[49m\u001B[43m(\u001B[49m\u001B[32;43m1\u001B[39;49m\u001B[43m,\u001B[49m\u001B[43m \u001B[49m\u001B[43mspacing_ratio\u001B[49m\u001B[43m,\u001B[49m\u001B[43m \u001B[49m\u001B[43mspacing_ratio\u001B[49m\u001B[43m)\u001B[49m\u001B[43m,\u001B[49m\u001B[43m \u001B[49m\u001B[43morder\u001B[49m\u001B[43m=\u001B[49m\u001B[32;43m1\u001B[39;49m\u001B[43m)\u001B[49m\n\u001B[32m     14\u001B[39m filtered = anisotropic_diffusion(rescaled, niter=niter, kappa=kappa, gamma=gamma, option=\u001B[32m1\u001B[39m)\n\u001B[32m     15\u001B[39m output_vid = zoom(filtered, (\u001B[32m1\u001B[39m, \u001B[32m1\u001B[39m / spacing_ratio, \u001B[32m1\u001B[39m / spacing_ratio), order=\u001B[32m1\u001B[39m)\n",
      "\u001B[36mFile \u001B[39m\u001B[32m~/Documents/rp/code/.venv/lib/python3.13/site-packages/scipy/ndimage/_interpolation.py:862\u001B[39m, in \u001B[36mzoom\u001B[39m\u001B[34m(input, zoom, output, order, mode, cval, prefilter, grid_mode)\u001B[39m\n\u001B[32m    858\u001B[39m zoom = np.divide(zoom_nominator, zoom_div,\n\u001B[32m    859\u001B[39m                  out=np.ones_like(\u001B[38;5;28minput\u001B[39m.shape, dtype=np.float64),\n\u001B[32m    860\u001B[39m                  where=zoom_div != \u001B[32m0\u001B[39m)\n\u001B[32m    861\u001B[39m zoom = np.ascontiguousarray(zoom)\n\u001B[32m--> \u001B[39m\u001B[32m862\u001B[39m \u001B[43m_nd_image\u001B[49m\u001B[43m.\u001B[49m\u001B[43mzoom_shift\u001B[49m\u001B[43m(\u001B[49m\u001B[43mfiltered\u001B[49m\u001B[43m,\u001B[49m\u001B[43m \u001B[49m\u001B[43mzoom\u001B[49m\u001B[43m,\u001B[49m\u001B[43m \u001B[49m\u001B[38;5;28;43;01mNone\u001B[39;49;00m\u001B[43m,\u001B[49m\u001B[43m \u001B[49m\u001B[43moutput\u001B[49m\u001B[43m,\u001B[49m\u001B[43m \u001B[49m\u001B[43morder\u001B[49m\u001B[43m,\u001B[49m\u001B[43m \u001B[49m\u001B[43mmode\u001B[49m\u001B[43m,\u001B[49m\u001B[43m \u001B[49m\u001B[43mcval\u001B[49m\u001B[43m,\u001B[49m\u001B[43m \u001B[49m\u001B[43mnpad\u001B[49m\u001B[43m,\u001B[49m\n\u001B[32m    863\u001B[39m \u001B[43m                     \u001B[49m\u001B[43mgrid_mode\u001B[49m\u001B[43m)\u001B[49m\n\u001B[32m    864\u001B[39m \u001B[38;5;28;01mreturn\u001B[39;00m output\n",
      "\u001B[31mKeyboardInterrupt\u001B[39m: "
     ]
    }
   ],
   "execution_count": 4
  },
  {
   "metadata": {
    "ExecuteTime": {
     "end_time": "2025-06-08T16:28:39.705466Z",
     "start_time": "2025-06-08T16:28:21.017676Z"
    }
   },
   "cell_type": "code",
   "source": "ssim(data[:1000], data_gt[:1000], data_range=1.0)",
   "id": "1cc92356d01d38b4",
   "outputs": [
    {
     "data": {
      "text/plain": [
       "np.float64(0.301184401470448)"
      ]
     },
     "execution_count": 9,
     "metadata": {},
     "output_type": "execute_result"
    }
   ],
   "execution_count": 9
  },
  {
   "metadata": {
    "ExecuteTime": {
     "end_time": "2025-06-08T16:10:16.259816Z",
     "start_time": "2025-06-08T15:54:10.476837Z"
    }
   },
   "cell_type": "code",
   "source": [
    "# eval_denoising_method(\n",
    "#     data[:1000],\n",
    "#     wavelet_filter,\n",
    "#     lambda denoised: ssim(denoised, data_gt[:1000], data_range=1.0, multichannel=False),\n",
    "#     np.array(HYPER_WAVELET),\n",
    "#     'wavelet_ssim_1000f'\n",
    "# )\n",
    "\n",
    "eval_denoising_method(\n",
    "    data[:1000],\n",
    "    wavelet_filter,\n",
    "    lambda denoised: sliding_window_tsnr(denoised),\n",
    "    np.array(HYPER_WAVELET),\n",
    "    'wavelet_tsnr_1000f'\n",
    ")"
   ],
   "id": "dd7b3cb1acd9b1b",
   "outputs": [
    {
     "name": "stdout",
     "output_type": "stream",
     "text": [
      "Working on wavelet_tsnr_1000f. Number of items: 30\n"
     ]
    },
    {
     "name": "stderr",
     "output_type": "stream",
     "text": [
      "30it [16:05, 32.19s/it]\n"
     ]
    },
    {
     "data": {
      "text/plain": [
       "array([[[(np.float32(29.552183), np.float32(3.7999694)),\n",
       "         (np.float32(22.739807), np.float32(2.3441672)),\n",
       "         (np.float32(23.77848), np.float32(2.3629155))],\n",
       "        [(np.float32(22.658709), np.float32(2.753578)),\n",
       "         (np.float32(17.219423), np.float32(1.9583927)),\n",
       "         (np.float32(20.11942), np.float32(2.1240122))]],\n",
       "\n",
       "       [[(np.float32(26.9501), np.float32(2.7815719)),\n",
       "         (np.float32(21.006592), np.float32(1.756513)),\n",
       "         (np.float32(21.342085), np.float32(1.7666543))],\n",
       "        [(np.float32(16.476206), np.float32(1.5564797)),\n",
       "         (np.float32(15.095381), np.float32(1.4047587)),\n",
       "         (np.float32(15.334428), np.float32(1.4136634))]],\n",
       "\n",
       "       [[(np.float32(17.380302), np.float32(1.6485565)),\n",
       "         (np.float32(13.759375), np.float32(0.6382918)),\n",
       "         (np.float32(14.347007), np.float32(0.6927349))],\n",
       "        [(np.float32(10.431503), np.float32(0.50142103)),\n",
       "         (np.float32(9.3852625), np.float32(0.40701094)),\n",
       "         (np.float32(9.905504), np.float32(0.45835823))]],\n",
       "\n",
       "       [[(np.float32(11.757119), np.float32(0.822411)),\n",
       "         (np.float32(11.096331), np.float32(0.771553)),\n",
       "         (np.float32(10.9510565), np.float32(0.7641698))],\n",
       "        [(np.float32(10.413965), np.float32(0.7702628)),\n",
       "         (np.float32(10.35), np.float32(0.76728517)),\n",
       "         (np.float32(10.34226), np.float32(0.7677621))]],\n",
       "\n",
       "       [[(np.float32(8.906008), np.float32(0.47129005)),\n",
       "         (np.float32(9.247688), np.float32(0.48907363)),\n",
       "         (np.float32(8.768407), np.float32(0.48057023))],\n",
       "        [(np.float32(8.768519), np.float32(0.47974786)),\n",
       "         (np.float32(8.951543), np.float32(0.48079172)),\n",
       "         (np.float32(8.756151), np.float32(0.48171526))]]], dtype=object)"
      ]
     },
     "execution_count": 5,
     "metadata": {},
     "output_type": "execute_result"
    }
   ],
   "execution_count": 5
  }
 ],
 "metadata": {
  "kernelspec": {
   "display_name": "Python 3",
   "language": "python",
   "name": "python3"
  },
  "language_info": {
   "codemirror_mode": {
    "name": "ipython",
    "version": 2
   },
   "file_extension": ".py",
   "mimetype": "text/x-python",
   "name": "python",
   "nbconvert_exporter": "python",
   "pygments_lexer": "ipython2",
   "version": "2.7.6"
  }
 },
 "nbformat": 4,
 "nbformat_minor": 5
}
