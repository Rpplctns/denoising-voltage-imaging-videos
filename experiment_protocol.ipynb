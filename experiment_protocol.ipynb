{
 "cells": [
  {
   "cell_type": "code",
   "id": "initial_id",
   "metadata": {
    "collapsed": true,
    "ExecuteTime": {
     "end_time": "2025-06-09T10:00:27.517852Z",
     "start_time": "2025-06-09T10:00:25.796464Z"
    }
   },
   "source": [
    "import data.loader as loader\n",
    "\n",
    "from skimage.metrics import structural_similarity as ssim\n",
    "from evaluation.snr import temporal_snr, sliding_window_tsnr\n",
    "\n",
    "from denoising.gaussian import gaussian_filter\n",
    "from denoising.anisotropic import anisotropic_filter\n",
    "from denoising.wavelet import wavelet_filter\n",
    "\n",
    "from denoising.HYPERPARAMS import *\n",
    "\n",
    "from eval import eval_denoising_method"
   ],
   "outputs": [],
   "execution_count": 1
  },
  {
   "metadata": {
    "ExecuteTime": {
     "end_time": "2025-06-09T10:00:48.916358Z",
     "start_time": "2025-06-09T10:00:27.806713Z"
    }
   },
   "cell_type": "code",
   "source": [
    "# Validation set\n",
    "data = loader.load(directory='data/optosynth/raw/', file='optosynth__1__20__5.tif')['optosynth__1__20__5.tif']\n",
    "data_gt = loader.load(directory='data/optosynth/clean/', file='optosynth__1__20__5.tif')['optosynth__1__20__5.tif']"
   ],
   "id": "cd51f10f047e36c1",
   "outputs": [],
   "execution_count": 2
  },
  {
   "metadata": {
    "jupyter": {
     "is_executing": true
    },
    "ExecuteTime": {
     "start_time": "2025-06-09T10:02:51.154512Z"
    }
   },
   "cell_type": "code",
   "source": [
    "for i in range(3, 5):\n",
    "    eval_denoising_method(\n",
    "        data[:1000],\n",
    "        anisotropic_filter,\n",
    "        lambda denoised: ssim(denoised, data_gt[:1000], data_range=1.0, multichannel=False),\n",
    "        np.array(HYPER_ANISOTROPIC[i:(i+1)]),\n",
    "        f'anisotropic_ssim_100f_sr{i}'\n",
    "    )\n",
    "\n",
    "# for i in range(5):\n",
    "#     eval_denoising_method(\n",
    "#         data[:1000],\n",
    "#         anisotropic_filter,\n",
    "#         lambda denoised: temporal_snr(denoised),\n",
    "#         np.array(HYPER_ANISOTROPIC[i:(i+1)]),\n",
    "#         f'anisotropic_tsnr_100f_sr{i}'\n",
    "#     )"
   ],
   "id": "1119bfa3ed539140",
   "outputs": [
    {
     "name": "stdout",
     "output_type": "stream",
     "text": [
      "Working on anisotropic_ssim_100f_sr3. Number of items: 70\n"
     ]
    },
    {
     "name": "stderr",
     "output_type": "stream",
     "text": [
      "0it [00:00, ?it/s]"
     ]
    }
   ],
   "execution_count": null
  },
  {
   "metadata": {
    "ExecuteTime": {
     "end_time": "2025-06-08T16:28:39.705466Z",
     "start_time": "2025-06-08T16:28:21.017676Z"
    }
   },
   "cell_type": "code",
   "source": "ssim(data[:1000], data_gt[:1000], data_range=1.0)",
   "id": "1cc92356d01d38b4",
   "outputs": [
    {
     "data": {
      "text/plain": [
       "np.float64(0.301184401470448)"
      ]
     },
     "execution_count": 9,
     "metadata": {},
     "output_type": "execute_result"
    }
   ],
   "execution_count": 9
  },
  {
   "metadata": {
    "ExecuteTime": {
     "end_time": "2025-06-08T16:10:16.259816Z",
     "start_time": "2025-06-08T15:54:10.476837Z"
    }
   },
   "cell_type": "code",
   "source": [
    "# eval_denoising_method(\n",
    "#     data[:1000],\n",
    "#     wavelet_filter,\n",
    "#     lambda denoised: ssim(denoised, data_gt[:1000], data_range=1.0, multichannel=False),\n",
    "#     np.array(HYPER_WAVELET),\n",
    "#     'wavelet_ssim_1000f'\n",
    "# )\n",
    "\n",
    "eval_denoising_method(\n",
    "    data[:1000],\n",
    "    wavelet_filter,\n",
    "    lambda denoised: sliding_window_tsnr(denoised),\n",
    "    np.array(HYPER_WAVELET),\n",
    "    'wavelet_tsnr_1000f'\n",
    ")"
   ],
   "id": "dd7b3cb1acd9b1b",
   "outputs": [
    {
     "name": "stdout",
     "output_type": "stream",
     "text": [
      "Working on wavelet_tsnr_1000f. Number of items: 30\n"
     ]
    },
    {
     "name": "stderr",
     "output_type": "stream",
     "text": [
      "30it [16:05, 32.19s/it]\n"
     ]
    },
    {
     "data": {
      "text/plain": [
       "array([[[(np.float32(29.552183), np.float32(3.7999694)),\n",
       "         (np.float32(22.739807), np.float32(2.3441672)),\n",
       "         (np.float32(23.77848), np.float32(2.3629155))],\n",
       "        [(np.float32(22.658709), np.float32(2.753578)),\n",
       "         (np.float32(17.219423), np.float32(1.9583927)),\n",
       "         (np.float32(20.11942), np.float32(2.1240122))]],\n",
       "\n",
       "       [[(np.float32(26.9501), np.float32(2.7815719)),\n",
       "         (np.float32(21.006592), np.float32(1.756513)),\n",
       "         (np.float32(21.342085), np.float32(1.7666543))],\n",
       "        [(np.float32(16.476206), np.float32(1.5564797)),\n",
       "         (np.float32(15.095381), np.float32(1.4047587)),\n",
       "         (np.float32(15.334428), np.float32(1.4136634))]],\n",
       "\n",
       "       [[(np.float32(17.380302), np.float32(1.6485565)),\n",
       "         (np.float32(13.759375), np.float32(0.6382918)),\n",
       "         (np.float32(14.347007), np.float32(0.6927349))],\n",
       "        [(np.float32(10.431503), np.float32(0.50142103)),\n",
       "         (np.float32(9.3852625), np.float32(0.40701094)),\n",
       "         (np.float32(9.905504), np.float32(0.45835823))]],\n",
       "\n",
       "       [[(np.float32(11.757119), np.float32(0.822411)),\n",
       "         (np.float32(11.096331), np.float32(0.771553)),\n",
       "         (np.float32(10.9510565), np.float32(0.7641698))],\n",
       "        [(np.float32(10.413965), np.float32(0.7702628)),\n",
       "         (np.float32(10.35), np.float32(0.76728517)),\n",
       "         (np.float32(10.34226), np.float32(0.7677621))]],\n",
       "\n",
       "       [[(np.float32(8.906008), np.float32(0.47129005)),\n",
       "         (np.float32(9.247688), np.float32(0.48907363)),\n",
       "         (np.float32(8.768407), np.float32(0.48057023))],\n",
       "        [(np.float32(8.768519), np.float32(0.47974786)),\n",
       "         (np.float32(8.951543), np.float32(0.48079172)),\n",
       "         (np.float32(8.756151), np.float32(0.48171526))]]], dtype=object)"
      ]
     },
     "execution_count": 5,
     "metadata": {},
     "output_type": "execute_result"
    }
   ],
   "execution_count": 5
  }
 ],
 "metadata": {
  "kernelspec": {
   "display_name": "Python 3",
   "language": "python",
   "name": "python3"
  },
  "language_info": {
   "codemirror_mode": {
    "name": "ipython",
    "version": 2
   },
   "file_extension": ".py",
   "mimetype": "text/x-python",
   "name": "python",
   "nbconvert_exporter": "python",
   "pygments_lexer": "ipython2",
   "version": "2.7.6"
  }
 },
 "nbformat": 4,
 "nbformat_minor": 5
}
