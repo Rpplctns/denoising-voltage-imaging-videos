{
 "cells": [
  {
   "metadata": {
    "ExecuteTime": {
     "end_time": "2025-06-10T20:34:57.632521Z",
     "start_time": "2025-06-10T20:34:56.302205Z"
    }
   },
   "cell_type": "code",
   "source": [
    "import data.loader as loader\n",
    "from denoising.anisotropic import anisotropic_filter\n",
    "from denoising.gaussian import gaussian_filter\n",
    "from denoising.HYPERPARAMS import *\n",
    "from skimage.metrics import structural_similarity as ssim\n",
    "\n",
    "from denoising.tv import tv_minimization_filter\n",
    "from denoising.wavelet import wavelet_filter\n",
    "from evaluation.snr import temporal_snr"
   ],
   "id": "54df63672840b143",
   "outputs": [],
   "execution_count": 1
  },
  {
   "metadata": {
    "ExecuteTime": {
     "end_time": "2025-06-10T20:35:48.855804Z",
     "start_time": "2025-06-10T20:34:57.670605Z"
    }
   },
   "cell_type": "code",
   "source": "data = loader.load(directory='data/HPC2/', file='00_02.tif')['00_02.tif'][:1000]",
   "id": "8e08ea7b833742e4",
   "outputs": [],
   "execution_count": 2
  },
  {
   "metadata": {
    "ExecuteTime": {
     "end_time": "2025-06-10T19:55:30.623237Z",
     "start_time": "2025-06-10T19:55:29.956747Z"
    }
   },
   "cell_type": "code",
   "source": [
    "tsnr_v = temporal_snr(data)\n",
    "tsnr_v"
   ],
   "id": "6b4bd746f90992de",
   "outputs": [
    {
     "data": {
      "text/plain": [
       "(np.float32(11.072439), np.float32(8.747176))"
      ]
     },
     "execution_count": 8,
     "metadata": {},
     "output_type": "execute_result"
    }
   ],
   "execution_count": 8
  },
  {
   "metadata": {
    "ExecuteTime": {
     "end_time": "2025-06-10T20:46:01.494800Z",
     "start_time": "2025-06-10T20:35:49.276232Z"
    }
   },
   "cell_type": "code",
   "source": [
    "denoised = gaussian_filter(data, OPT_HYPER_GAUSSIAN)\n",
    "tsnr_v = temporal_snr(denoised)\n",
    "tsnr_v"
   ],
   "id": "d8c6d02afe2d5d2d",
   "outputs": [
    {
     "data": {
      "text/plain": [
       "(np.float32(23.496075), np.float32(19.408998))"
      ]
     },
     "execution_count": 3,
     "metadata": {},
     "output_type": "execute_result"
    }
   ],
   "execution_count": 3
  },
  {
   "metadata": {
    "ExecuteTime": {
     "end_time": "2025-06-10T19:56:20.875331Z",
     "start_time": "2025-06-10T19:55:32.932505Z"
    }
   },
   "cell_type": "code",
   "source": [
    "denoised = anisotropic_filter(data, OPT_HYPER_ANISOTROPIC)\n",
    "tsnr_v = temporal_snr(denoised)\n",
    "tsnr_v"
   ],
   "id": "708d6923bc09df6c",
   "outputs": [
    {
     "data": {
      "text/plain": [
       "(np.float32(32.22066), np.float32(27.600712))"
      ]
     },
     "execution_count": 9,
     "metadata": {},
     "output_type": "execute_result"
    }
   ],
   "execution_count": 9
  },
  {
   "metadata": {
    "ExecuteTime": {
     "end_time": "2025-06-10T19:58:06.922537Z",
     "start_time": "2025-06-10T19:56:31.322742Z"
    }
   },
   "cell_type": "code",
   "source": [
    "denoised = tv_minimization_filter(data, OPT_HYPER_TV_MINIMIZATION)\n",
    "tsnr_v = temporal_snr(denoised)\n",
    "tsnr_v"
   ],
   "id": "9b8c9fcc99759522",
   "outputs": [
    {
     "data": {
      "text/plain": [
       "(np.float32(84.22915), np.float32(51.784622))"
      ]
     },
     "execution_count": 10,
     "metadata": {},
     "output_type": "execute_result"
    }
   ],
   "execution_count": 10
  },
  {
   "metadata": {
    "ExecuteTime": {
     "end_time": "2025-06-10T19:58:19.014749Z",
     "start_time": "2025-06-10T19:58:06.967876Z"
    }
   },
   "cell_type": "code",
   "source": [
    "denoised = wavelet_filter(data, OPT_HYPER_WAVELET)\n",
    "tsnr_v = temporal_snr(denoised)\n",
    "tsnr_v"
   ],
   "id": "2f96747e0131efa7",
   "outputs": [
    {
     "data": {
      "text/plain": [
       "(np.float32(15.944879), np.float32(14.7591715))"
      ]
     },
     "execution_count": 11,
     "metadata": {},
     "output_type": "execute_result"
    }
   ],
   "execution_count": 11
  },
  {
   "metadata": {
    "ExecuteTime": {
     "end_time": "2025-06-10T20:17:24.691107Z",
     "start_time": "2025-06-10T20:17:00.335765Z"
    }
   },
   "cell_type": "code",
   "source": [
    "data = loader.load(directory='data/optosynth/raw/', file='optosynth__1__20__5.tif')['optosynth__1__20__5.tif']\n",
    "data_gt = loader.load(directory='data/optosynth/clean/', file='optosynth__1__20__5.tif')['optosynth__1__20__5.tif']"
   ],
   "id": "d28ae2dc6e28e6f8",
   "outputs": [],
   "execution_count": 2
  },
  {
   "metadata": {
    "ExecuteTime": {
     "end_time": "2025-06-10T20:34:20.873089Z",
     "start_time": "2025-06-10T20:17:25.100602Z"
    }
   },
   "cell_type": "code",
   "source": [
    "denoised = gaussian_filter(data[:1000], OPT_HYPER_GAUSSIAN)\n",
    "ssim_v = ssim(denoised, data_gt[:1000], data_range=1.0, multichannel=False)\n",
    "ssim_v"
   ],
   "id": "5ffff2c2ff91d07e",
   "outputs": [
    {
     "data": {
      "text/plain": [
       "np.float64(0.3450530475501173)"
      ]
     },
     "execution_count": 3,
     "metadata": {},
     "output_type": "execute_result"
    }
   ],
   "execution_count": 3
  },
  {
   "metadata": {
    "ExecuteTime": {
     "end_time": "2025-06-10T19:42:08.675794Z",
     "start_time": "2025-06-10T19:40:22.540169Z"
    }
   },
   "cell_type": "code",
   "source": [
    "denoised = anisotropic_filter(data[:1000], OPT_HYPER_ANISOTROPIC)\n",
    "ssim_v = ssim(denoised, data_gt[:1000], data_range=1.0, multichannel=False)\n",
    "ssim_v"
   ],
   "id": "134168c6b4fbc6e",
   "outputs": [
    {
     "data": {
      "text/plain": [
       "np.float64(0.314318709152589)"
      ]
     },
     "execution_count": 3,
     "metadata": {},
     "output_type": "execute_result"
    }
   ],
   "execution_count": 3
  },
  {
   "metadata": {
    "ExecuteTime": {
     "end_time": "2025-06-10T19:43:24.976975Z",
     "start_time": "2025-06-10T19:43:01.936450Z"
    }
   },
   "cell_type": "code",
   "source": [
    "ssim_v = ssim(data[:1000], data_gt[:1000], data_range=1.0, multichannel=False)\n",
    "ssim_v"
   ],
   "id": "e5c66f3e172f74a2",
   "outputs": [
    {
     "data": {
      "text/plain": [
       "np.float64(0.301184401470448)"
      ]
     },
     "execution_count": 6,
     "metadata": {},
     "output_type": "execute_result"
    }
   ],
   "execution_count": 6
  },
  {
   "metadata": {
    "ExecuteTime": {
     "end_time": "2025-06-10T19:45:14.345148Z",
     "start_time": "2025-06-10T19:43:36.968749Z"
    }
   },
   "cell_type": "code",
   "source": [
    "denoised = tv_minimization_filter(data[:1000], OPT_HYPER_TV_MINIMIZATION)\n",
    "ssim_v = ssim(denoised, data_gt[:1000], data_range=1.0, multichannel=False)\n",
    "ssim_v"
   ],
   "id": "35a68560efedf89a",
   "outputs": [
    {
     "data": {
      "text/plain": [
       "np.float64(0.30943057791917666)"
      ]
     },
     "execution_count": 7,
     "metadata": {},
     "output_type": "execute_result"
    }
   ],
   "execution_count": 7
  },
  {
   "metadata": {
    "ExecuteTime": {
     "end_time": "2025-06-10T19:45:56.488787Z",
     "start_time": "2025-06-10T19:45:14.414389Z"
    }
   },
   "cell_type": "code",
   "source": [
    "denoised = wavelet_filter(data[:1000], OPT_HYPER_WAVELET)\n",
    "ssim_v = ssim(denoised, data_gt[:1000], data_range=1.0, multichannel=False)\n",
    "ssim_v"
   ],
   "id": "6f82443ffb1cb649",
   "outputs": [
    {
     "data": {
      "text/plain": [
       "np.float64(0.32902274394826436)"
      ]
     },
     "execution_count": 8,
     "metadata": {},
     "output_type": "execute_result"
    }
   ],
   "execution_count": 8
  },
  {
   "metadata": {},
   "cell_type": "code",
   "outputs": [],
   "execution_count": null,
   "source": "data = loader.load(directory='data/optosynth/raw/', file='optosynth__2__20__5.tif')['optosynth__2__20__5.tif']",
   "id": "59fc9a8f989a1d5f"
  },
  {
   "metadata": {},
   "cell_type": "code",
   "outputs": [],
   "execution_count": null,
   "source": [
    "denoised = anisotropic_filter(data, OPT_HYPER_ANISOTROPIC)\n",
    "np.save('denoised_data/anisotropic_optosynth__2__20__5.npy', denoised)\n",
    "del(data)\n",
    "del(denoised)"
   ],
   "id": "4d0a60e7e1f84425"
  },
  {
   "metadata": {},
   "cell_type": "code",
   "outputs": [],
   "execution_count": null,
   "source": "data = loader.load(directory='data/optosynth/raw/', file='optosynth__3__20__5.tif')['optosynth__3__20__5.tif']",
   "id": "5d3abd12486315e0"
  },
  {
   "metadata": {},
   "cell_type": "code",
   "outputs": [],
   "execution_count": null,
   "source": [
    "denoised = anisotropic_filter(data, OPT_HYPER_ANISOTROPIC)\n",
    "np.save('denoised_data/anisotropic_optosynth__3__20__5.npy', denoised)\n",
    "del(data)\n",
    "del(denoised)"
   ],
   "id": "6ea4d233733a906d"
  }
 ],
 "metadata": {
  "kernelspec": {
   "display_name": "Python 3",
   "language": "python",
   "name": "python3"
  },
  "language_info": {
   "codemirror_mode": {
    "name": "ipython",
    "version": 2
   },
   "file_extension": ".py",
   "mimetype": "text/x-python",
   "name": "python",
   "nbconvert_exporter": "python",
   "pygments_lexer": "ipython2",
   "version": "2.7.6"
  }
 },
 "nbformat": 4,
 "nbformat_minor": 5
}
